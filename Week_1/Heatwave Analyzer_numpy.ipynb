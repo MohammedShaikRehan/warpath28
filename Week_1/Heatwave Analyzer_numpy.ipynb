{
 "cells": [
  {
   "cell_type": "markdown",
   "id": "6d27c6ca-4db9-442a-8d48-a913b670e8d6",
   "metadata": {},
   "source": [
    "# 🌡️ Heatwave Analyzer using NumPy\n",
    "\n",
    "Welcome to the **Heatwave Analyzer**! This project simulates daily temperature data for 60 days and analyzes weekly patterns, extreme heat events, and sudden temperature spikes using `NumPy`.\n",
    "\n",
    "🧠 **Skills Covered:** `reshape`, `mean`, `where`, `argmax`, `unravel_index`, `diff`\n",
    "\n",
    "📅 **Timeline:** Day 1 & 2 of #Warpath28 \n",
    "\n",
    "🗣️ Completed on `day 2`!"
   ]
  },
  {
   "cell_type": "code",
   "execution_count": 2,
   "id": "e77d9341-e544-4036-8c68-48f1c4c8c1e9",
   "metadata": {},
   "outputs": [],
   "source": [
    "import numpy as np"
   ]
  },
  {
   "cell_type": "markdown",
   "id": "e9cb9a19-b637-4378-8ed5-386f6135586d",
   "metadata": {},
   "source": [
    "## 1️⃣ Step 1: Lets Generate Daily Temperature Data\n",
    "\n",
    "We use NumPy to generate random temperatures for 60 days.  \n",
    "Temperature range: **22°C to 43°C**." 
   ]
  },
  {
   "cell_type": "code",
   "execution_count": 3,
   "id": "3e941309-7031-4d0c-a92f-5d3a1ee1d532",
   "metadata": {},
   "outputs": [
    {
     "name": "stdout",
     "output_type": "stream",
     "text": [
      "Daily Temp:  [25 32 25 37 42 34 39 32 31 40 23 36 35 34 23 36 30 27 41 28 33 34 22 34\n",
      " 22 31 33 35 24 41 22 29 24 34 25 28 22 40 28 36 34 22 38 35 42 26 36 22\n",
      " 35 38 32 36 33 28 32 34 37 28 25 31]\n"
     ]
    }
   ],
   "source": [
    "Daily_temp = np.random.randint(22, 43, size=(60))\n",
    "print(\"Daily Temp: \", Daily_temp)"
   ]
  },
  {
   "cell_type": "markdown",
   "id": "f94fb87e-4d21-4076-bca0-7794573eadc1",
   "metadata": {},
   "source": [
    "## Step 2: Reshape Data into Weeks\n",
    "\n",
    "We divide the 60-day data into **10 weeks**, with each week having 6 days.\n",
    "We’ll reshape our array into a `(10, 6)` shape."
   ]
  },
  {
   "cell_type": "code",
   "execution_count": 4,
   "id": "b21e75db-160f-486c-96fd-58675c334b4a",
   "metadata": {},
   "outputs": [
    {
     "name": "stdout",
     "output_type": "stream",
     "text": [
      "[[25 32 25 37 42 34]\n",
      " [39 32 31 40 23 36]\n",
      " [35 34 23 36 30 27]\n",
      " [41 28 33 34 22 34]\n",
      " [22 31 33 35 24 41]\n",
      " [22 29 24 34 25 28]\n",
      " [22 40 28 36 34 22]\n",
      " [38 35 42 26 36 22]\n",
      " [35 38 32 36 33 28]\n",
      " [32 34 37 28 25 31]]\n"
     ]
    }
   ],
   "source": [
    "weeks= Daily_temp.reshape(10, 6)\n",
    "print(weeks)"
   ]
  },
  {
   "cell_type": "markdown",
   "id": "91d19922-875e-4f53-9cae-76d1ae0dc1ec",
   "metadata": {},
   "source": [
    "## Step 3: Calculate Weekly Averages\n",
    "\n",
    "We calculate the **average temperature** for each week using `np.mean()` along `axis=1`.\n",
    "This helps us identify how hot or cold each week was overall."
   ]
  },
  {
   "cell_type": "code",
   "execution_count": 5,
   "id": "cfa8fe6b-5852-46f7-ad3d-503f0552de2d",
   "metadata": {},
   "outputs": [
    {
     "name": "stdout",
     "output_type": "stream",
     "text": [
      "The average Temp is:[32.5        33.5        30.83333333 32.         31.         27.\n",
      " 30.33333333 33.16666667 33.66666667 31.16666667]\n"
     ]
    }
   ],
   "source": [
    "average= np.mean(weeks, axis=1)\n",
    "print(f'The average Temp is:{average}')"
   ]
  },
  {
   "cell_type": "markdown",
   "id": "91c086d7-557c-4cb6-ae8d-2b6985adee9c",
   "metadata": {},
   "source": [
    "## Step 4: Detect Heatwave Weeks\n",
    "\n",
    "A heatwave is defined as a week with an **average temperature > 35°C**.  \n",
    "We use `np.where()` to detect such weeks.\n",
    "And also do +1 when printing for readability."
   ]
  },
  {
   "cell_type": "code",
   "execution_count": 6,
   "id": "52a52fa1-b4c1-4b21-82f7-f0433cf706b6",
   "metadata": {},
   "outputs": [
    {
     "name": "stdout",
     "output_type": "stream",
     "text": [
      "Heatwave weeks (avg>35):  []\n"
     ]
    }
   ],
   "source": [
    "hot_weeks= np.where(average>35)[0] \n",
    "print(\"Heatwave weeks (avg>35): \", hot_weeks+1) "
   ]
  },
  {
   "cell_type": "markdown",
   "id": "0b58260a-ac92-4071-85e5-5889bc9b0fe6",
   "metadata": {},
   "source": [
    "## Step 5: Find the Hottest Day\n",
    "\n",
    "Let’s find:\n",
    "- The **maximum temperature**\n",
    "- The **week and day** it occurred\n",
    "\n",
    "We use `np.argmax()` to locate the max, and `np.unravel_index()` to translate it into week/day format.\n"
   ]
  },
  {
   "cell_type": "code",
   "execution_count": 13,
   "id": "7cd98746-c8ab-486c-b457-c60b4b021685",
   "metadata": {},
   "outputs": [
    {
     "name": "stdout",
     "output_type": "stream",
     "text": [
      "The Hottest Temp is 42 which occured on week 1 and day 5\n"
     ]
    }
   ],
   "source": [
    "Hottest_temp=np.max(weeks)\n",
    "occured_hottest= np.unravel_index(np.argmax(weeks),weeks.shape)\n",
    "print(f\"The Hottest Temp is {Hottest_temp} which occured on week {occured_hottest[0]+1} and day {occured_hottest[1]+1}\")  #we do +1 for redability"
   ]
  },
  {
   "cell_type": "markdown",
   "id": "0104ce24-2565-40f2-81c0-de7b25e67839",
   "metadata": {},
   "source": [
    "## Step 6: Daily Temperature\n",
    "\n",
    "We analyze how the temperature changes **day-to-day** using `np.diff()` for each week.  \n",
    "This helps us visualize fluctuations and spot instability.\n"
   ]
  },
  {
   "cell_type": "code",
   "execution_count": 14,
   "id": "18bfaec4-5cff-4f03-b17b-89ab3c5855b5",
   "metadata": {},
   "outputs": [
    {
     "name": "stdout",
     "output_type": "stream",
     "text": [
      "The temperature change is:  [[  7  -7  12   5  -8]\n",
      " [ -7  -1   9 -17  13]\n",
      " [ -1 -11  13  -6  -3]\n",
      " [-13   5   1 -12  12]\n",
      " [  9   2   2 -11  17]\n",
      " [  7  -5  10  -9   3]\n",
      " [ 18 -12   8  -2 -12]\n",
      " [ -3   7 -16  10 -14]\n",
      " [  3  -6   4  -3  -5]\n",
      " [  2   3  -9  -3   6]]\n"
     ]
    }
   ],
   "source": [
    "Temp_change=np.diff(weeks, axis=1)\n",
    "print(\"The temperature change is: \",Temp_change)"
   ]
  },
  {
   "cell_type": "markdown",
   "id": "e0d2e384-4825-4e71-952b-742f2fc29aff",
   "metadata": {},
   "source": [
    "## Step 7: Sudden Temperature Spikes\n",
    "\n",
    "We consider a **\"spike\"** when the temperature increases by **more than 8°C** in a single day.  \n",
    "We use `np.where()` to detect such spikes and show the week, day, and change.\n"
   ]
  },
  {
   "cell_type": "code",
   "execution_count": 16,
   "id": "1309a46d-5803-4fd2-acd2-33884d81d9ef",
   "metadata": {},
   "outputs": [
    {
     "name": "stdout",
     "output_type": "stream",
     "text": [
      "The Spike detected is week- 1, day- 3, with a change of 12°C\n",
      "The Spike detected is week- 2, day- 3, with a change of 9°C\n",
      "The Spike detected is week- 2, day- 5, with a change of 13°C\n",
      "The Spike detected is week- 3, day- 3, with a change of 13°C\n",
      "The Spike detected is week- 4, day- 5, with a change of 12°C\n",
      "The Spike detected is week- 5, day- 1, with a change of 9°C\n",
      "The Spike detected is week- 5, day- 5, with a change of 17°C\n",
      "The Spike detected is week- 6, day- 3, with a change of 10°C\n",
      "The Spike detected is week- 7, day- 1, with a change of 18°C\n",
      "The Spike detected is week- 8, day- 4, with a change of 10°C\n"
     ]
    }
   ],
   "source": [
    "Spike=np.where(Temp_change>8)\n",
    "for week,day in zip(*Spike):\n",
    "    change=weeks[week][day+1] - weeks[week][day]\n",
    "    print(f\"The Spike detected is week- {week+1}, day- {day+1}, with a change of {change}°C\")"
   ]
  },
  {
   "cell_type": "markdown",
   "id": "0240e270-5f91-4a28-a66d-7a2dcec8b6cb",
   "metadata": {},
   "source": [
    "# Final Summary\n",
    "\n",
    "In this project, we successfully:\n",
    "- Created synthetic temperature data\n",
    "- Applied NumPy operations to analyze patterns\n",
    "- Detected weekly trends and sudden events\n",
    "- Learned how to use `reshape`, `mean`, `where`, `argmax`, `diff`, and more\n",
    "\n",
    "---\n",
    "\n",
    "📂 **Next Step:** pushing this to GitHub and starting my journey on a 28-day warpath!\n"
   ]
  }
 ],
 "metadata": {
  "kernelspec": {
   "display_name": "Python 3 (ipykernel)",
   "language": "python",
   "name": "python3"
  },
  "language_info": {
   "codemirror_mode": {
    "name": "ipython",
    "version": 3
   },
   "file_extension": ".py",
   "mimetype": "text/x-python",
   "name": "python",
   "nbconvert_exporter": "python",
   "pygments_lexer": "ipython3",
   "version": "3.13.1"
  }
 },
 "nbformat": 4,
 "nbformat_minor": 5
}
