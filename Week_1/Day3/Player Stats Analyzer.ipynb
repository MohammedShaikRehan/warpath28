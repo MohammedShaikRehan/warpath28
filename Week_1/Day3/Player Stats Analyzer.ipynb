{
 "cells": [
  {
   "cell_type": "markdown",
   "id": "71141a3e-14c3-4016-854e-852b74d9eebe",
   "metadata": {},
   "source": [
    "# 🏟️ Day 3: Player Stats Analyzer – Pandas Challenge\n",
    "(Author- Rehan on my day 3 warpath) \n",
    "\n",
    "In this challenge, we create and manipulate a football player DataFrame using:\n",
    "- Boolean filtering\n",
    "- Sorting\n",
    "- Lambda with `.apply()`\n",
    "- Mapping with `.map()`\n",
    "- Dropping columns\n",
    "- Setting and resetting index"
   ]
  },
  {
   "cell_type": "code",
   "execution_count": 54,
   "id": "21af97f4-b6fb-4360-a8a5-ed59146a79cd",
   "metadata": {},
   "outputs": [
    {
     "data": {
      "text/html": [
       "<div>\n",
       "<style scoped>\n",
       "    .dataframe tbody tr th:only-of-type {\n",
       "        vertical-align: middle;\n",
       "    }\n",
       "\n",
       "    .dataframe tbody tr th {\n",
       "        vertical-align: top;\n",
       "    }\n",
       "\n",
       "    .dataframe thead th {\n",
       "        text-align: right;\n",
       "    }\n",
       "</style>\n",
       "<table border=\"1\" class=\"dataframe\">\n",
       "  <thead>\n",
       "    <tr style=\"text-align: right;\">\n",
       "      <th></th>\n",
       "      <th>Player</th>\n",
       "      <th>Club</th>\n",
       "      <th>Goals</th>\n",
       "      <th>Retired</th>\n",
       "    </tr>\n",
       "  </thead>\n",
       "  <tbody>\n",
       "    <tr>\n",
       "      <th>0</th>\n",
       "      <td>Cristiano</td>\n",
       "      <td>Al Nassr</td>\n",
       "      <td>820</td>\n",
       "      <td>True</td>\n",
       "    </tr>\n",
       "    <tr>\n",
       "      <th>1</th>\n",
       "      <td>Messi</td>\n",
       "      <td>Inter Miami</td>\n",
       "      <td>810</td>\n",
       "      <td>True</td>\n",
       "    </tr>\n",
       "    <tr>\n",
       "      <th>2</th>\n",
       "      <td>Neymar</td>\n",
       "      <td>Al Hilal</td>\n",
       "      <td>400</td>\n",
       "      <td>False</td>\n",
       "    </tr>\n",
       "    <tr>\n",
       "      <th>3</th>\n",
       "      <td>Mbappe</td>\n",
       "      <td>PSG</td>\n",
       "      <td>270</td>\n",
       "      <td>False</td>\n",
       "    </tr>\n",
       "    <tr>\n",
       "      <th>4</th>\n",
       "      <td>Haaland</td>\n",
       "      <td>Man City</td>\n",
       "      <td>180</td>\n",
       "      <td>False</td>\n",
       "    </tr>\n",
       "  </tbody>\n",
       "</table>\n",
       "</div>"
      ],
      "text/plain": [
       "      Player         Club  Goals  Retired\n",
       "0  Cristiano     Al Nassr    820     True\n",
       "1      Messi  Inter Miami    810     True\n",
       "2     Neymar     Al Hilal    400    False\n",
       "3     Mbappe          PSG    270    False\n",
       "4    Haaland     Man City    180    False"
      ]
     },
     "execution_count": 54,
     "metadata": {},
     "output_type": "execute_result"
    }
   ],
   "source": [
    "import pandas as pd\n",
    "df = pd.DataFrame({\n",
    "    'Player':  ['Cristiano', 'Messi', 'Neymar', 'Mbappe', 'Haaland'],\n",
    "    'Club':    ['Al Nassr', 'Inter Miami', 'Al Hilal', 'PSG', 'Man City'],\n",
    "    'Goals':   [820, 810, 400, 270, 180],\n",
    "    'Retired': [True, True, False, False, False]\n",
    "})\n",
    "df"
   ]
  },
  {
   "cell_type": "markdown",
   "id": "a560fc00-f53f-46e1-802c-4026d31b7ef8",
   "metadata": {},
   "source": [
    "### Step 2 & 3: Filter non-retired and sort by goals"
   ]
  },
  {
   "cell_type": "code",
   "execution_count": 55,
   "id": "76e7e370-55e0-4808-a06f-b26d290fc2ce",
   "metadata": {},
   "outputs": [
    {
     "data": {
      "text/html": [
       "<div>\n",
       "<style scoped>\n",
       "    .dataframe tbody tr th:only-of-type {\n",
       "        vertical-align: middle;\n",
       "    }\n",
       "\n",
       "    .dataframe tbody tr th {\n",
       "        vertical-align: top;\n",
       "    }\n",
       "\n",
       "    .dataframe thead th {\n",
       "        text-align: right;\n",
       "    }\n",
       "</style>\n",
       "<table border=\"1\" class=\"dataframe\">\n",
       "  <thead>\n",
       "    <tr style=\"text-align: right;\">\n",
       "      <th></th>\n",
       "      <th>Player</th>\n",
       "      <th>Club</th>\n",
       "      <th>Goals</th>\n",
       "      <th>Retired</th>\n",
       "    </tr>\n",
       "  </thead>\n",
       "  <tbody>\n",
       "    <tr>\n",
       "      <th>2</th>\n",
       "      <td>Neymar</td>\n",
       "      <td>Al Hilal</td>\n",
       "      <td>400</td>\n",
       "      <td>False</td>\n",
       "    </tr>\n",
       "    <tr>\n",
       "      <th>3</th>\n",
       "      <td>Mbappe</td>\n",
       "      <td>PSG</td>\n",
       "      <td>270</td>\n",
       "      <td>False</td>\n",
       "    </tr>\n",
       "    <tr>\n",
       "      <th>4</th>\n",
       "      <td>Haaland</td>\n",
       "      <td>Man City</td>\n",
       "      <td>180</td>\n",
       "      <td>False</td>\n",
       "    </tr>\n",
       "  </tbody>\n",
       "</table>\n",
       "</div>"
      ],
      "text/plain": [
       "    Player      Club  Goals  Retired\n",
       "2   Neymar  Al Hilal    400    False\n",
       "3   Mbappe       PSG    270    False\n",
       "4  Haaland  Man City    180    False"
      ]
     },
     "execution_count": 55,
     "metadata": {},
     "output_type": "execute_result"
    }
   ],
   "source": [
    "non_retired=df[df['Retired']==False]\n",
    "sorting=non_retired.sort_values('Goals',ascending=False)\n",
    "sorting"
   ]
  },
  {
   "cell_type": "markdown",
   "id": "cdea4bc3-ef74-4d7d-aa1a-be9b27fb346e",
   "metadata": {},
   "source": [
    "### Step 4: Create Tier Column with .apply()\n",
    "- Legend: ≥ 700\n",
    "- Star: ≥ 300\n",
    "- Rising: < 300"
   ]
  },
  {
   "cell_type": "code",
   "execution_count": 56,
   "id": "fb7d9418-ab42-4784-9219-02178c9e6b7c",
   "metadata": {},
   "outputs": [
    {
     "name": "stdout",
     "output_type": "stream",
     "text": [
      "      Player         Club  Goals  Retired    Tier\n",
      "0  Cristiano     Al Nassr    820     True  Legend\n",
      "1      Messi  Inter Miami    810     True  Legend\n",
      "2     Neymar     Al Hilal    400    False    Star\n",
      "3     Mbappe          PSG    270    False  Rising\n",
      "4    Haaland     Man City    180    False  Rising\n"
     ]
    }
   ],
   "source": [
    "df['Tier']=df['Goals'].apply(lambda x: \"Legend\" if x>=700 else \"Star\" if x>=300 else \"Rising\")\n",
    "print(df)"
   ]
  },
  {
   "cell_type": "markdown",
   "id": "f025b218-52df-443f-86a6-3994f0be2729",
   "metadata": {},
   "source": [
    "### Step 5: Map Clubs to Leagues with .map()"
   ]
  },
  {
   "cell_type": "code",
   "execution_count": 57,
   "id": "b37718c5-1d30-44c6-b0bd-fdacf822a3bb",
   "metadata": {},
   "outputs": [
    {
     "name": "stdout",
     "output_type": "stream",
     "text": [
      "      Player         Club  Goals  Retired    Tier           Leagues\n",
      "0  Cristiano     Al Nassr    820     True  Legend  Saudi Pro League\n",
      "1      Messi  Inter Miami    810     True  Legend               MLS\n",
      "2     Neymar     Al Hilal    400    False    Star  Saudi Pro League\n",
      "3     Mbappe          PSG    270    False  Rising           Ligue 1\n",
      "4    Haaland     Man City    180    False  Rising    Premier League\n"
     ]
    }
   ],
   "source": [
    "new_map={\n",
    "    'Al Nassr': 'Saudi Pro League',\n",
    "    'Inter Miami': 'MLS',\n",
    "    'Al Hilal': 'Saudi Pro League',\n",
    "    'PSG': 'Ligue 1',\n",
    "    'Man City': 'Premier League'\n",
    "}\n",
    "df['Leagues']=df['Club'].map(new_map)\n",
    "print(df)"
   ]
  },
  {
   "cell_type": "markdown",
   "id": "95a9a241-a114-47e5-93cd-03bf8a2fd72f",
   "metadata": {},
   "source": [
    "### Step 6: Drop 'Retired' Column"
   ]
  },
  {
   "cell_type": "code",
   "execution_count": 63,
   "id": "be5a180e-55c0-4e53-b034-99fcb3014c05",
   "metadata": {},
   "outputs": [
    {
     "data": {
      "text/html": [
       "<div>\n",
       "<style scoped>\n",
       "    .dataframe tbody tr th:only-of-type {\n",
       "        vertical-align: middle;\n",
       "    }\n",
       "\n",
       "    .dataframe tbody tr th {\n",
       "        vertical-align: top;\n",
       "    }\n",
       "\n",
       "    .dataframe thead th {\n",
       "        text-align: right;\n",
       "    }\n",
       "</style>\n",
       "<table border=\"1\" class=\"dataframe\">\n",
       "  <thead>\n",
       "    <tr style=\"text-align: right;\">\n",
       "      <th></th>\n",
       "      <th>Player</th>\n",
       "      <th>Club</th>\n",
       "      <th>Goals</th>\n",
       "      <th>Tier</th>\n",
       "      <th>Leagues</th>\n",
       "    </tr>\n",
       "  </thead>\n",
       "  <tbody>\n",
       "    <tr>\n",
       "      <th>0</th>\n",
       "      <td>Cristiano</td>\n",
       "      <td>Al Nassr</td>\n",
       "      <td>820</td>\n",
       "      <td>Legend</td>\n",
       "      <td>Saudi Pro League</td>\n",
       "    </tr>\n",
       "    <tr>\n",
       "      <th>1</th>\n",
       "      <td>Messi</td>\n",
       "      <td>Inter Miami</td>\n",
       "      <td>810</td>\n",
       "      <td>Legend</td>\n",
       "      <td>MLS</td>\n",
       "    </tr>\n",
       "    <tr>\n",
       "      <th>2</th>\n",
       "      <td>Neymar</td>\n",
       "      <td>Al Hilal</td>\n",
       "      <td>400</td>\n",
       "      <td>Star</td>\n",
       "      <td>Saudi Pro League</td>\n",
       "    </tr>\n",
       "    <tr>\n",
       "      <th>3</th>\n",
       "      <td>Mbappe</td>\n",
       "      <td>PSG</td>\n",
       "      <td>270</td>\n",
       "      <td>Rising</td>\n",
       "      <td>Ligue 1</td>\n",
       "    </tr>\n",
       "    <tr>\n",
       "      <th>4</th>\n",
       "      <td>Haaland</td>\n",
       "      <td>Man City</td>\n",
       "      <td>180</td>\n",
       "      <td>Rising</td>\n",
       "      <td>Premier League</td>\n",
       "    </tr>\n",
       "  </tbody>\n",
       "</table>\n",
       "</div>"
      ],
      "text/plain": [
       "      Player         Club  Goals    Tier           Leagues\n",
       "0  Cristiano     Al Nassr    820  Legend  Saudi Pro League\n",
       "1      Messi  Inter Miami    810  Legend               MLS\n",
       "2     Neymar     Al Hilal    400    Star  Saudi Pro League\n",
       "3     Mbappe          PSG    270  Rising           Ligue 1\n",
       "4    Haaland     Man City    180  Rising    Premier League"
      ]
     },
     "execution_count": 63,
     "metadata": {},
     "output_type": "execute_result"
    }
   ],
   "source": [
    "df.drop('Retired', axis=1, inplace=True,errors='ignore')\n",
    "df"
   ]
  },
  {
   "cell_type": "markdown",
   "id": "6e96b909-9a09-4d73-86e3-b47f93c84334",
   "metadata": {},
   "source": [
    "### Step 7: Set Index and Reset it again"
   ]
  },
  {
   "cell_type": "code",
   "execution_count": 69,
   "id": "e61fa235-bdc7-44c6-8fac-cd4869dba062",
   "metadata": {},
   "outputs": [],
   "source": [
    "setting=df.set_index('Player', inplace=True)\n",
    "resetting= df.reset_index(inplace=True)"
   ]
  },
  {
   "cell_type": "markdown",
   "id": "278b1107-0073-4571-9831-b833ce11178f",
   "metadata": {},
   "source": [
    "### Step 8: Goals Summary using .describe()"
   ]
  },
  {
   "cell_type": "code",
   "execution_count": 75,
   "id": "b7cc6b3c-b592-4eef-a659-041ef64ce699",
   "metadata": {},
   "outputs": [
    {
     "name": "stdout",
     "output_type": "stream",
     "text": [
      "The Goals column Summary is:  count      5.00\n",
      "mean     496.00\n",
      "std      301.55\n",
      "min      180.00\n",
      "25%      270.00\n",
      "50%      400.00\n",
      "75%      810.00\n",
      "max      820.00\n",
      "Name: Goals, dtype: float64\n"
     ]
    }
   ],
   "source": [
    "print(\"The Goals column Summary is: \", df['Goals'].describe().round(2))"
   ]
  },
  {
   "cell_type": "markdown",
   "id": "62585309-b341-4bdc-b39f-9e2349cc02b7",
   "metadata": {},
   "source": [
    "### Step 9: Final Summary\n",
    "\n",
    "Here’s a quick recap of what we learned through this challenge:\n",
    "\n",
    "- 📌 Used `.loc[]` and `.iloc[]` for row access\n",
    "- 🧼 Filtered non-retired players using Boolean indexing\n",
    "- 🔽 Sorted players by goals\n",
    "- 🏆 Created a dynamic `Tier` column using `.apply()`\n",
    "- 🗺️ Mapped clubs to leagues using `.map()`\n",
    "- 🗑️ Dropped unused columns like 'Retired'\n",
    "- 📇 Played with `.set_index()` and `.reset_index()`\n",
    "- 📊 Used `.describe()` + `.round()` for statistical insights.\n",
    "(looks less boring with more emojis!)\n",
    "---"
   ]
  }
 ],
 "metadata": {
  "kernelspec": {
   "display_name": "Python 3 (ipykernel)",
   "language": "python",
   "name": "python3"
  },
  "language_info": {
   "codemirror_mode": {
    "name": "ipython",
    "version": 3
   },
   "file_extension": ".py",
   "mimetype": "text/x-python",
   "name": "python",
   "nbconvert_exporter": "python",
   "pygments_lexer": "ipython3",
   "version": "3.13.1"
  }
 },
 "nbformat": 4,
 "nbformat_minor": 5
}
