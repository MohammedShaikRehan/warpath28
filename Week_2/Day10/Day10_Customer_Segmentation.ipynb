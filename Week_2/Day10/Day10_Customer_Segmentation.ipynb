{
 "cells": [
  {
   "cell_type": "markdown",
   "id": "628279f0-7361-4061-b864-04e266fd7772",
   "metadata": {},
   "source": [
    "# Day 10 – High-Value Customer Segmentation Dashboard"
   ]
  },
  {
   "cell_type": "markdown",
   "id": "af29950b-ff35-41b1-9e08-7d86db230d9a",
   "metadata": {},
   "source": [
    "## Step 1: Import Libraries & Load Dataset"
   ]
  },
  {
   "cell_type": "code",
   "execution_count": 36,
   "id": "af432334-178a-4638-a318-3784eadccc9b",
   "metadata": {},
   "outputs": [
    {
     "data": {
      "text/html": [
       "<div>\n",
       "<style scoped>\n",
       "    .dataframe tbody tr th:only-of-type {\n",
       "        vertical-align: middle;\n",
       "    }\n",
       "\n",
       "    .dataframe tbody tr th {\n",
       "        vertical-align: top;\n",
       "    }\n",
       "\n",
       "    .dataframe thead th {\n",
       "        text-align: right;\n",
       "    }\n",
       "</style>\n",
       "<table border=\"1\" class=\"dataframe\">\n",
       "  <thead>\n",
       "    <tr style=\"text-align: right;\">\n",
       "      <th></th>\n",
       "      <th>CustomerID</th>\n",
       "      <th>Gender</th>\n",
       "      <th>Region</th>\n",
       "      <th>CLV</th>\n",
       "    </tr>\n",
       "  </thead>\n",
       "  <tbody>\n",
       "    <tr>\n",
       "      <th>0</th>\n",
       "      <td>1</td>\n",
       "      <td>Male</td>\n",
       "      <td>North</td>\n",
       "      <td>250</td>\n",
       "    </tr>\n",
       "    <tr>\n",
       "      <th>1</th>\n",
       "      <td>2</td>\n",
       "      <td>Female</td>\n",
       "      <td>South</td>\n",
       "      <td>520</td>\n",
       "    </tr>\n",
       "    <tr>\n",
       "      <th>2</th>\n",
       "      <td>3</td>\n",
       "      <td>Male</td>\n",
       "      <td>East</td>\n",
       "      <td>340</td>\n",
       "    </tr>\n",
       "    <tr>\n",
       "      <th>3</th>\n",
       "      <td>4</td>\n",
       "      <td>Female</td>\n",
       "      <td>West</td>\n",
       "      <td>700</td>\n",
       "    </tr>\n",
       "    <tr>\n",
       "      <th>4</th>\n",
       "      <td>5</td>\n",
       "      <td>Male</td>\n",
       "      <td>North</td>\n",
       "      <td>150</td>\n",
       "    </tr>\n",
       "  </tbody>\n",
       "</table>\n",
       "</div>"
      ],
      "text/plain": [
       "   CustomerID  Gender Region  CLV\n",
       "0           1    Male  North  250\n",
       "1           2  Female  South  520\n",
       "2           3    Male   East  340\n",
       "3           4  Female   West  700\n",
       "4           5    Male  North  150"
      ]
     },
     "execution_count": 36,
     "metadata": {},
     "output_type": "execute_result"
    }
   ],
   "source": [
    "import pandas as pd\n",
    "import seaborn as sns\n",
    "import matplotlib.pyplot as plt\n",
    "data = {\n",
    "    'CustomerID': range(1, 21),\n",
    "    'Gender': ['Male', 'Female'] * 10,\n",
    "    'Region': ['North', 'South', 'East', 'West'] * 5,\n",
    "    'CLV': [250, 520, 340, 700, 150, 800, 310, 420, 670, 510,\n",
    "            240, 660, 390, 560, 230, 610, 470, 490, 280, 360]\n",
    "}\n",
    "df = pd.DataFrame(data)\n",
    "df.head()"
   ]
  },
  {
   "cell_type": "markdown",
   "id": "a4bd2e1a-c1d0-4c4c-9ca3-dec06d113793",
   "metadata": {},
   "source": [
    "## Step 2: Create Pivot Table – CLV by Region & Gender"
   ]
  },
  {
   "cell_type": "code",
   "execution_count": 37,
   "id": "d42f90a6-3603-44d9-852e-6fa27898ea58",
   "metadata": {},
   "outputs": [
    {
     "data": {
      "text/html": [
       "<div>\n",
       "<style scoped>\n",
       "    .dataframe tbody tr th:only-of-type {\n",
       "        vertical-align: middle;\n",
       "    }\n",
       "\n",
       "    .dataframe tbody tr th {\n",
       "        vertical-align: top;\n",
       "    }\n",
       "\n",
       "    .dataframe thead th {\n",
       "        text-align: right;\n",
       "    }\n",
       "</style>\n",
       "<table border=\"1\" class=\"dataframe\">\n",
       "  <thead>\n",
       "    <tr style=\"text-align: right;\">\n",
       "      <th>Gender</th>\n",
       "      <th>Female</th>\n",
       "      <th>Male</th>\n",
       "    </tr>\n",
       "    <tr>\n",
       "      <th>Region</th>\n",
       "      <th></th>\n",
       "      <th></th>\n",
       "    </tr>\n",
       "  </thead>\n",
       "  <tbody>\n",
       "    <tr>\n",
       "      <th>East</th>\n",
       "      <td>NaN</td>\n",
       "      <td>280.0</td>\n",
       "    </tr>\n",
       "    <tr>\n",
       "      <th>North</th>\n",
       "      <td>NaN</td>\n",
       "      <td>386.0</td>\n",
       "    </tr>\n",
       "    <tr>\n",
       "      <th>South</th>\n",
       "      <td>576.0</td>\n",
       "      <td>NaN</td>\n",
       "    </tr>\n",
       "    <tr>\n",
       "      <th>West</th>\n",
       "      <td>550.0</td>\n",
       "      <td>NaN</td>\n",
       "    </tr>\n",
       "  </tbody>\n",
       "</table>\n",
       "</div>"
      ],
      "text/plain": [
       "Gender  Female   Male\n",
       "Region               \n",
       "East       NaN  280.0\n",
       "North      NaN  386.0\n",
       "South    576.0    NaN\n",
       "West     550.0    NaN"
      ]
     },
     "execution_count": 37,
     "metadata": {},
     "output_type": "execute_result"
    }
   ],
   "source": [
    "clv_pivot = pd.pivot_table(\n",
    "    data=df,\n",
    "    index='Region',\n",
    "    columns='Gender',\n",
    "    values='CLV',\n",
    "    aggfunc='mean'\n",
    ")\n",
    "clv_pivot"
   ]
  },
  {
   "cell_type": "markdown",
   "id": "29485fb2-04c4-4ca0-b7f3-98279fc240f9",
   "metadata": {},
   "source": [
    "## Step 3: Visualize with Heatmap"
   ]
  },
  {
   "cell_type": "code",
   "execution_count": 38,
   "id": "252bb62e-d6b1-4809-81bf-1fb3f9736953",
   "metadata": {},
   "outputs": [
    {
     "data": {
      "image/png": "[encoded data removed]",
      "text/plain": [
       "<Figure size 800x500 with 2 Axes>"
      ]
     },
     "metadata": {},
     "output_type": "display_data"
    }
   ],
   "source": [
    "plt.figure(figsize=(8, 5))\n",
    "sns.heatmap(clv_pivot, annot=True, fmt=\".0f\", cmap='YlGnBu') #fmt removes scientific notation thats all\n",
    "plt.title(\"Average CLV by Region and Gender\")\n",
    "plt.xlabel(\"Gender\")\n",
    "plt.ylabel(\"Region\")\n",
    "plt.show()"
   ]
  },
  {
   "cell_type": "markdown",
   "id": "58b5b004-af7c-4f3c-aee1-bec9c747ec94",
   "metadata": {},
   "source": [
    "## Step 4: Crosstab – Count of Customers by Region & Gender"
   ]
  },
  {
   "cell_type": "code",
   "execution_count": 39,
   "id": "3e5b2046-730b-42b9-aac3-442593d61eb4",
   "metadata": {},
   "outputs": [
    {
     "data": {
      "text/html": [
       "<div>\n",
       "<style scoped>\n",
       "    .dataframe tbody tr th:only-of-type {\n",
       "        vertical-align: middle;\n",
       "    }\n",
       "\n",
       "    .dataframe tbody tr th {\n",
       "        vertical-align: top;\n",
       "    }\n",
       "\n",
       "    .dataframe thead th {\n",
       "        text-align: right;\n",
       "    }\n",
       "</style>\n",
       "<table border=\"1\" class=\"dataframe\">\n",
       "  <thead>\n",
       "    <tr style=\"text-align: right;\">\n",
       "      <th>Gender</th>\n",
       "      <th>Female</th>\n",
       "      <th>Male</th>\n",
       "    </tr>\n",
       "    <tr>\n",
       "      <th>Region</th>\n",
       "      <th></th>\n",
       "      <th></th>\n",
       "    </tr>\n",
       "  </thead>\n",
       "  <tbody>\n",
       "    <tr>\n",
       "      <th>East</th>\n",
       "      <td>0</td>\n",
       "      <td>5</td>\n",
       "    </tr>\n",
       "    <tr>\n",
       "      <th>North</th>\n",
       "      <td>0</td>\n",
       "      <td>5</td>\n",
       "    </tr>\n",
       "    <tr>\n",
       "      <th>South</th>\n",
       "      <td>5</td>\n",
       "      <td>0</td>\n",
       "    </tr>\n",
       "    <tr>\n",
       "      <th>West</th>\n",
       "      <td>5</td>\n",
       "      <td>0</td>\n",
       "    </tr>\n",
       "  </tbody>\n",
       "</table>\n",
       "</div>"
      ],
      "text/plain": [
       "Gender  Female  Male\n",
       "Region              \n",
       "East         0     5\n",
       "North        0     5\n",
       "South        5     0\n",
       "West         5     0"
      ]
     },
     "execution_count": 39,
     "metadata": {},
     "output_type": "execute_result"
    }
   ],
   "source": [
    "customer_ct = pd.crosstab(df['Region'], df['Gender'])\n",
    "customer_ct"
   ]
  },
  {
   "cell_type": "markdown",
   "id": "65b6a227-70af-46f1-aaa4-b9285bbbedfb",
   "metadata": {},
   "source": [
    "## Step 5: Crosstab Heatmap"
   ]
  },
  {
   "cell_type": "code",
   "execution_count": 40,
   "id": "c322352d-1dbd-43ef-89cc-f51bffd14fb6",
   "metadata": {},
   "outputs": [
    {
     "data": {
      "image/png": "[encoded data removed]",
      "text/plain": [
       "<Figure size 800x400 with 2 Axes>"
      ]
     },
     "metadata": {},
     "output_type": "display_data"
    }
   ],
   "source": [
    "plt.figure(figsize=(8, 4))\n",
    "sns.heatmap(customer_ct, annot=True, cmap='coolwarm')\n",
    "plt.title(\"Customer Count by Region and Gender\")\n",
    "plt.xlabel(\"Gender\")\n",
    "plt.ylabel(\"Region\")\n",
    "plt.show()"
   ]
  },
  {
   "cell_type": "markdown",
   "id": "8c351c22-095d-4705-a619-653cc6a81f3a",
   "metadata": {},
   "source": [
    "## Step 6: Insights"
   ]
  },
  {
   "cell_type": "markdown",
   "id": "ea5af2f5-607c-4fbc-8209-5b05467d9451",
   "metadata": {},
   "source": [
    "- 🔥 South region shows the highest average CLV among Female customers.\n",
    "- 💡 Gender-wise, Females in South and West seem to be high-value customers.\n",
    "- 🧭 Equal number of Male and Female customers across all regions (based on Crosstab).\n",
    "- 🎯 You could target marketing in high-CLV zones (e.g., South–Female).\n"
   ]
  }
 ],
 "metadata": {
  "kernelspec": {
   "display_name": "Python 3 (ipykernel)",
   "language": "python",
   "name": "python3"
  },
  "language_info": {
   "codemirror_mode": {
    "name": "ipython",
    "version": 3
   },
   "file_extension": ".py",
   "mimetype": "text/x-python",
   "name": "python",
   "nbconvert_exporter": "python",
   "pygments_lexer": "ipython3",
   "version": "3.13.1"
  }
 },
 "nbformat": 4,
 "nbformat_minor": 5
}
