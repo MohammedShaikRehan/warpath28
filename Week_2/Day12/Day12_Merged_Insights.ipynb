{
 "cells": [
  {
   "cell_type": "markdown",
   "id": "826de1c7-0df7-4d2a-bff0-26267263c7ac",
   "metadata": {},
   "source": [
    "# Day 12 – Mastering GroupBy with Merge in Pandas\n",
    "Welcome to Day 12 of the 28-Day Data Warpath!  \n",
    "Today, we dived into **merging multiple DataFrames** and **performing grouped aggregations** to derive insights like top spenders, regional performance, and gender-based spending patterns.\n",
    "\n",
    "---\n",
    "\n",
    "## Step 1: Load the Data"
   ]
  },
  {
   "cell_type": "code",
   "execution_count": 24,
   "id": "b2f238d3-74c0-4e73-9d4a-dc98aa4764c1",
   "metadata": {},
   "outputs": [],
   "source": [
    "import pandas as pd\n",
    "import seaborn as sns\n",
    "import matplotlib.pyplot as plt\n",
    "\n",
    "# Sample customer data\n",
    "customers = pd.DataFrame({\n",
    "    'CustomerID': [101, 102, 103, 104],\n",
    "    'Name': ['Alice', 'Bob', 'Charlie', 'Diana'],\n",
    "    'Gender': ['Female', 'Male', 'Male', 'Female'],\n",
    "    'Region': ['North', 'South', 'East', 'West']\n",
    "})\n",
    "\n",
    "# Sample transactions data\n",
    "transactions = pd.DataFrame({\n",
    "    'TransactionID': [1, 2, 3, 4, 5],\n",
    "    'CustomerID': [101, 102, 103, 104, 101],\n",
    "    'Amount': [200, 300, 150, 400, 100]\n",
    "})"
   ]
  },
  {
   "cell_type": "markdown",
   "id": "cd7528bf-8385-4fcc-bc26-338e49263666",
   "metadata": {},
   "source": [
    "## Step 2: Merge the DataFrames"
   ]
  },
  {
   "cell_type": "code",
   "execution_count": 25,
   "id": "7cd9fcda-b83d-4067-976b-2ed27f3c7756",
   "metadata": {},
   "outputs": [
    {
     "data": {
      "text/html": [
       "<div>\n",
       "<style scoped>\n",
       "    .dataframe tbody tr th:only-of-type {\n",
       "        vertical-align: middle;\n",
       "    }\n",
       "\n",
       "    .dataframe tbody tr th {\n",
       "        vertical-align: top;\n",
       "    }\n",
       "\n",
       "    .dataframe thead th {\n",
       "        text-align: right;\n",
       "    }\n",
       "</style>\n",
       "<table border=\"1\" class=\"dataframe\">\n",
       "  <thead>\n",
       "    <tr style=\"text-align: right;\">\n",
       "      <th></th>\n",
       "      <th>TransactionID</th>\n",
       "      <th>CustomerID</th>\n",
       "      <th>Amount</th>\n",
       "      <th>Name</th>\n",
       "      <th>Gender</th>\n",
       "      <th>Region</th>\n",
       "    </tr>\n",
       "  </thead>\n",
       "  <tbody>\n",
       "    <tr>\n",
       "      <th>0</th>\n",
       "      <td>1</td>\n",
       "      <td>101</td>\n",
       "      <td>200</td>\n",
       "      <td>Alice</td>\n",
       "      <td>Female</td>\n",
       "      <td>North</td>\n",
       "    </tr>\n",
       "    <tr>\n",
       "      <th>1</th>\n",
       "      <td>2</td>\n",
       "      <td>102</td>\n",
       "      <td>300</td>\n",
       "      <td>Bob</td>\n",
       "      <td>Male</td>\n",
       "      <td>South</td>\n",
       "    </tr>\n",
       "    <tr>\n",
       "      <th>2</th>\n",
       "      <td>3</td>\n",
       "      <td>103</td>\n",
       "      <td>150</td>\n",
       "      <td>Charlie</td>\n",
       "      <td>Male</td>\n",
       "      <td>East</td>\n",
       "    </tr>\n",
       "    <tr>\n",
       "      <th>3</th>\n",
       "      <td>4</td>\n",
       "      <td>104</td>\n",
       "      <td>400</td>\n",
       "      <td>Diana</td>\n",
       "      <td>Female</td>\n",
       "      <td>West</td>\n",
       "    </tr>\n",
       "    <tr>\n",
       "      <th>4</th>\n",
       "      <td>5</td>\n",
       "      <td>101</td>\n",
       "      <td>100</td>\n",
       "      <td>Alice</td>\n",
       "      <td>Female</td>\n",
       "      <td>North</td>\n",
       "    </tr>\n",
       "  </tbody>\n",
       "</table>\n",
       "</div>"
      ],
      "text/plain": [
       "   TransactionID  CustomerID  Amount     Name  Gender Region\n",
       "0              1         101     200    Alice  Female  North\n",
       "1              2         102     300      Bob    Male  South\n",
       "2              3         103     150  Charlie    Male   East\n",
       "3              4         104     400    Diana  Female   West\n",
       "4              5         101     100    Alice  Female  North"
      ]
     },
     "execution_count": 25,
     "metadata": {},
     "output_type": "execute_result"
    }
   ],
   "source": [
    "# Merging the datasets using inner join\n",
    "merged = transactions.merge(customers, on='CustomerID', how='inner')\n",
    "merged.head()"
   ]
  },
  {
   "cell_type": "markdown",
   "id": "9b11e27c-7219-45de-85af-84a907d9c99d",
   "metadata": {},
   "source": [
    "## Step 3: Total Spend by Region"
   ]
  },
  {
   "cell_type": "code",
   "execution_count": 26,
   "id": "9610814e-c3b3-45aa-a801-961ed7b91d84",
   "metadata": {},
   "outputs": [
    {
     "name": "stdout",
     "output_type": "stream",
     "text": [
      "Total Spend by Region:\n",
      "  Region  Amount\n",
      "3   West     400\n",
      "1  North     300\n",
      "2  South     300\n",
      "0   East     150\n"
     ]
    }
   ],
   "source": [
    "total_spend = merged.groupby('Region')['Amount'].sum().reset_index()\n",
    "total_spend = total_spend.sort_values(by='Amount', ascending=False)\n",
    "print(\"Total Spend by Region:\")\n",
    "print(total_spend)"
   ]
  },
  {
   "cell_type": "markdown",
   "id": "81f63d59-99ba-4ca3-8c05-17435e3703f0",
   "metadata": {},
   "source": [
    "## Step 4: Average Spend by Gender"
   ]
  },
  {
   "cell_type": "code",
   "execution_count": 27,
   "id": "79802ff7-d952-457f-8783-c34e015e7167",
   "metadata": {},
   "outputs": [
    {
     "name": "stdout",
     "output_type": "stream",
     "text": [
      "Average Spend by Gender:\n",
      "   Gender      Amount\n",
      "0  Female  233.333333\n",
      "1    Male  225.000000\n"
     ]
    }
   ],
   "source": [
    "avg_spend_gender = merged.groupby('Gender')['Amount'].mean().reset_index()\n",
    "print(\"Average Spend by Gender:\")\n",
    "print(avg_spend_gender)"
   ]
  },
  {
   "cell_type": "markdown",
   "id": "2cd94271-d752-467c-ab80-6b67d1be858a",
   "metadata": {},
   "source": [
    "## Step 5: Number of Transactions per Region"
   ]
  },
  {
   "cell_type": "code",
   "execution_count": 28,
   "id": "3b4814af-2b95-45cf-95b6-475e7488bbd7",
   "metadata": {},
   "outputs": [
    {
     "name": "stdout",
     "output_type": "stream",
     "text": [
      "Number of Transactions by Region:\n",
      "  Region  TransactionCount\n",
      "0   East                 1\n",
      "1  North                 2\n",
      "2  South                 1\n",
      "3   West                 1\n"
     ]
    }
   ],
   "source": [
    "transaction_count = merged.groupby('Region')['TransactionID'].count().reset_index()\n",
    "transaction_count.columns = ['Region', 'TransactionCount']\n",
    "print(\"Number of Transactions by Region:\")\n",
    "print(transaction_count)"
   ]
  },
  {
   "cell_type": "markdown",
   "id": "7ad0923a-befa-4d97-ad65-b518396e7865",
   "metadata": {},
   "source": [
    "## Step 6: Add Tier Based on Amount"
   ]
  },
  {
   "cell_type": "code",
   "execution_count": 29,
   "id": "be1c645d-596c-42e8-926c-112817938f49",
   "metadata": {},
   "outputs": [
    {
     "data": {
      "text/html": [
       "<div>\n",
       "<style scoped>\n",
       "    .dataframe tbody tr th:only-of-type {\n",
       "        vertical-align: middle;\n",
       "    }\n",
       "\n",
       "    .dataframe tbody tr th {\n",
       "        vertical-align: top;\n",
       "    }\n",
       "\n",
       "    .dataframe thead th {\n",
       "        text-align: right;\n",
       "    }\n",
       "</style>\n",
       "<table border=\"1\" class=\"dataframe\">\n",
       "  <thead>\n",
       "    <tr style=\"text-align: right;\">\n",
       "      <th></th>\n",
       "      <th>CustomerID</th>\n",
       "      <th>Amount</th>\n",
       "      <th>Tier</th>\n",
       "    </tr>\n",
       "  </thead>\n",
       "  <tbody>\n",
       "    <tr>\n",
       "      <th>0</th>\n",
       "      <td>101</td>\n",
       "      <td>200</td>\n",
       "      <td>Low</td>\n",
       "    </tr>\n",
       "    <tr>\n",
       "      <th>1</th>\n",
       "      <td>102</td>\n",
       "      <td>300</td>\n",
       "      <td>Mid</td>\n",
       "    </tr>\n",
       "    <tr>\n",
       "      <th>2</th>\n",
       "      <td>103</td>\n",
       "      <td>150</td>\n",
       "      <td>Low</td>\n",
       "    </tr>\n",
       "    <tr>\n",
       "      <th>3</th>\n",
       "      <td>104</td>\n",
       "      <td>400</td>\n",
       "      <td>High</td>\n",
       "    </tr>\n",
       "    <tr>\n",
       "      <th>4</th>\n",
       "      <td>101</td>\n",
       "      <td>100</td>\n",
       "      <td>Low</td>\n",
       "    </tr>\n",
       "  </tbody>\n",
       "</table>\n",
       "</div>"
      ],
      "text/plain": [
       "   CustomerID  Amount  Tier\n",
       "0         101     200   Low\n",
       "1         102     300   Mid\n",
       "2         103     150   Low\n",
       "3         104     400  High\n",
       "4         101     100   Low"
      ]
     },
     "execution_count": 29,
     "metadata": {},
     "output_type": "execute_result"
    }
   ],
   "source": [
    "merged['Tier'] = merged['Amount'].apply(lambda x: 'High' if x > 300 else 'Mid' if x > 200 else 'Low')\n",
    "merged[['CustomerID', 'Amount', 'Tier']]"
   ]
  },
  {
   "cell_type": "markdown",
   "id": "63bbb86d-e80e-41be-9b2b-fa5aaaa7fa2b",
   "metadata": {},
   "source": [
    "## Step 7: Visualizations"
   ]
  },
  {
   "cell_type": "code",
   "execution_count": 30,
   "id": "45c6c0c8-8bc3-40ac-bc55-cb5b5ad3fef0",
   "metadata": {},
   "outputs": [
    {
     "data": {
      "image/png": "[encoded data removed]",
      "text/plain": [
       "<Figure size 640x480 with 1 Axes>"
      ]
     },
     "metadata": {},
     "output_type": "display_data"
    }
   ],
   "source": [
    "# Total Spend by Regionsns.\n",
    "sns.barplot(data=total_spend, x='Region', y='Amount')\n",
    "plt.title(\"Total Spend by Region\")\n",
    "plt.show()"
   ]
  },
  {
   "cell_type": "code",
   "execution_count": 31,
   "id": "20c0729a-f14f-4009-8bef-53a4723641b4",
   "metadata": {},
   "outputs": [
    {
     "data": {
      "image/png": "[encoded data removed]",
      "text/plain": [
       "<Figure size 640x480 with 1 Axes>"
      ]
     },
     "metadata": {},
     "output_type": "display_data"
    }
   ],
   "source": [
    "# Average Spend by Gender\n",
    "sns.barplot(data=avg_spend_gender, x='Gender', y='Amount')\n",
    "plt.title(\"Average Spend by Gender\")\n",
    "plt.show()"
   ]
  },
  {
   "cell_type": "code",
   "execution_count": 32,
   "id": "ada758b6-31ad-4d37-98e7-5ffac743b98e",
   "metadata": {},
   "outputs": [
    {
     "data": {
      "image/png": "[encoded data removed]",
      "text/plain": [
       "<Figure size 640x480 with 1 Axes>"
      ]
     },
     "metadata": {},
     "output_type": "display_data"
    }
   ],
   "source": [
    "# Number of Transactions\n",
    "sns.barplot(data=transaction_count, x='Region', y='TransactionCount')\n",
    "plt.title(\"Number of Transactions per Region\")\n",
    "plt.show()"
   ]
  },
  {
   "cell_type": "markdown",
   "id": "5b4548ac-5075-4384-bbdd-e26fabbe2fd3",
   "metadata": {},
   "source": [
    "## Reflections & Learnings\n",
    "\n",
    "- Learned how to merge two datasets and derive new insights from them.\n",
    "- Practiced `groupby`, `.sum()`, `.mean()`, and `.count()` operations.\n",
    "- Built visuals using `seaborn` and made observations by comparing regions and gender.\n",
    "- Key Thought: *\"Learning everything is not important — retaining, applying, and revisiting what you learned is what builds intuition.\"*\n",
    "\n",
    "---\n",
    "\n",
    "**Done with Day 12!**  \n",
    "Let’s keep building stronger data muscles every day 💪📈  "
   ]
  }
 ],
 "metadata": {
  "kernelspec": {
   "display_name": "Python 3 (ipykernel)",
   "language": "python",
   "name": "python3"
  },
  "language_info": {
   "codemirror_mode": {
    "name": "ipython",
    "version": 3
   },
   "file_extension": ".py",
   "mimetype": "text/x-python",
   "name": "python",
   "nbconvert_exporter": "python",
   "pygments_lexer": "ipython3",
   "version": "3.13.1"
  }
 },
 "nbformat": 4,
 "nbformat_minor": 5
}
