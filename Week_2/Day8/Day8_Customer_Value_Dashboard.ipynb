{
 "cells": [
  {
   "cell_type": "markdown",
   "id": "e1e7d1f2-0812-440e-87dd-b9590a3deb16",
   "metadata": {},
   "source": [
    "# 🧪 Project Name : Customer Value Dashboard\n",
    "**Goal: Create a pivot-based dashboard showing Customer Lifetime Value (CLV), Orders, and Spend trends by Gender and Tier — and export everything.**"
   ]
  },
  {
   "cell_type": "markdown",
   "id": "69b0b87b-0e40-4a0b-bdc7-f18b5d53b7df",
   "metadata": {},
   "source": [
    "## Step 1: Import and Load Data"
   ]
  },
  {
   "cell_type": "code",
   "execution_count": 40,
   "id": "7ac6af99-8111-425f-a1db-8519db3119f8",
   "metadata": {},
   "outputs": [
    {
     "data": {
      "text/html": [
       "<div>\n",
       "<style scoped>\n",
       "    .dataframe tbody tr th:only-of-type {\n",
       "        vertical-align: middle;\n",
       "    }\n",
       "\n",
       "    .dataframe tbody tr th {\n",
       "        vertical-align: top;\n",
       "    }\n",
       "\n",
       "    .dataframe thead th {\n",
       "        text-align: right;\n",
       "    }\n",
       "</style>\n",
       "<table border=\"1\" class=\"dataframe\">\n",
       "  <thead>\n",
       "    <tr style=\"text-align: right;\">\n",
       "      <th></th>\n",
       "      <th>Customer</th>\n",
       "      <th>Gender</th>\n",
       "      <th>Spend</th>\n",
       "      <th>Total_orders</th>\n",
       "      <th>Tier</th>\n",
       "    </tr>\n",
       "  </thead>\n",
       "  <tbody>\n",
       "    <tr>\n",
       "      <th>0</th>\n",
       "      <td>Alice</td>\n",
       "      <td>Female</td>\n",
       "      <td>600</td>\n",
       "      <td>10</td>\n",
       "      <td>Platinum</td>\n",
       "    </tr>\n",
       "    <tr>\n",
       "      <th>1</th>\n",
       "      <td>Bob</td>\n",
       "      <td>Male</td>\n",
       "      <td>320</td>\n",
       "      <td>5</td>\n",
       "      <td>Gold</td>\n",
       "    </tr>\n",
       "    <tr>\n",
       "      <th>2</th>\n",
       "      <td>Charlie</td>\n",
       "      <td>Male</td>\n",
       "      <td>150</td>\n",
       "      <td>3</td>\n",
       "      <td>Regular</td>\n",
       "    </tr>\n",
       "    <tr>\n",
       "      <th>3</th>\n",
       "      <td>David</td>\n",
       "      <td>Male</td>\n",
       "      <td>450</td>\n",
       "      <td>6</td>\n",
       "      <td>Gold</td>\n",
       "    </tr>\n",
       "    <tr>\n",
       "      <th>4</th>\n",
       "      <td>Eva</td>\n",
       "      <td>Female</td>\n",
       "      <td>520</td>\n",
       "      <td>8</td>\n",
       "      <td>Platinum</td>\n",
       "    </tr>\n",
       "  </tbody>\n",
       "</table>\n",
       "</div>"
      ],
      "text/plain": [
       "  Customer  Gender  Spend  Total_orders      Tier\n",
       "0    Alice  Female    600            10  Platinum\n",
       "1      Bob    Male    320             5      Gold\n",
       "2  Charlie    Male    150             3   Regular\n",
       "3    David    Male    450             6      Gold\n",
       "4      Eva  Female    520             8  Platinum"
      ]
     },
     "execution_count": 40,
     "metadata": {},
     "output_type": "execute_result"
    }
   ],
   "source": [
    "import pandas as pd\n",
    "\n",
    "df = pd.read_csv(\"Output/customer_data_cleaned.csv\") #dont mind the \"output/ here its just the path\" \n",
    "df.head()"
   ]
  },
  {
   "cell_type": "markdown",
   "id": "39b199d5-290f-49e8-b3ba-bd5c90aefd92",
   "metadata": {},
   "source": [
    "## Step 2: Create CLV if it’s not there"
   ]
  },
  {
   "cell_type": "code",
   "execution_count": 41,
   "id": "964049df-dc89-4ede-a292-a2504c2a5668",
   "metadata": {},
   "outputs": [],
   "source": [
    "# Optional: In case you haven’t calculated CLV yet\n",
    "df['CLV'] = df['Spend'] * df['Total_orders']"
   ]
  },
  {
   "cell_type": "markdown",
   "id": "351f75c9-a478-4fa2-be73-ebb8d056113d",
   "metadata": {},
   "source": [
    "## Step 3: Pivot Table 1 – Avg CLV by Tier & Gender"
   ]
  },
  {
   "cell_type": "code",
   "execution_count": 42,
   "id": "b1711373-8f44-49b1-84f6-46826a93e603",
   "metadata": {},
   "outputs": [
    {
     "data": {
      "text/html": [
       "<div>\n",
       "<style scoped>\n",
       "    .dataframe tbody tr th:only-of-type {\n",
       "        vertical-align: middle;\n",
       "    }\n",
       "\n",
       "    .dataframe tbody tr th {\n",
       "        vertical-align: top;\n",
       "    }\n",
       "\n",
       "    .dataframe thead th {\n",
       "        text-align: right;\n",
       "    }\n",
       "</style>\n",
       "<table border=\"1\" class=\"dataframe\">\n",
       "  <thead>\n",
       "    <tr style=\"text-align: right;\">\n",
       "      <th>Gender</th>\n",
       "      <th>Female</th>\n",
       "      <th>Male</th>\n",
       "    </tr>\n",
       "    <tr>\n",
       "      <th>Tier</th>\n",
       "      <th></th>\n",
       "      <th></th>\n",
       "    </tr>\n",
       "  </thead>\n",
       "  <tbody>\n",
       "    <tr>\n",
       "      <th>Gold</th>\n",
       "      <td>1902.5</td>\n",
       "      <td>2150.0</td>\n",
       "    </tr>\n",
       "    <tr>\n",
       "      <th>Platinum</th>\n",
       "      <td>4530.0</td>\n",
       "      <td>6710.0</td>\n",
       "    </tr>\n",
       "    <tr>\n",
       "      <th>Regular</th>\n",
       "      <td>NaN</td>\n",
       "      <td>775.0</td>\n",
       "    </tr>\n",
       "  </tbody>\n",
       "</table>\n",
       "</div>"
      ],
      "text/plain": [
       "Gender    Female    Male\n",
       "Tier                    \n",
       "Gold      1902.5  2150.0\n",
       "Platinum  4530.0  6710.0\n",
       "Regular      NaN   775.0"
      ]
     },
     "execution_count": 42,
     "metadata": {},
     "output_type": "execute_result"
    }
   ],
   "source": [
    "clv_pivot = pd.pivot_table(\n",
    "    data=df,\n",
    "    index='Tier',\n",
    "    columns='Gender',\n",
    "    values='CLV',\n",
    "    aggfunc='mean'\n",
    ")\n",
    "\n",
    "clv_pivot\n"
   ]
  },
  {
   "cell_type": "markdown",
   "id": "9f3ea5bf-cfa5-42c7-80d5-1cf2e6b26b3d",
   "metadata": {},
   "source": [
    "## Step 4: Pivot Table 2 – Total Orders by Tier & Gender"
   ]
  },
  {
   "cell_type": "code",
   "execution_count": 43,
   "id": "a7318cb0-2404-4aa2-af1a-1086d1e90775",
   "metadata": {},
   "outputs": [
    {
     "data": {
      "text/html": [
       "<div>\n",
       "<style scoped>\n",
       "    .dataframe tbody tr th:only-of-type {\n",
       "        vertical-align: middle;\n",
       "    }\n",
       "\n",
       "    .dataframe tbody tr th {\n",
       "        vertical-align: top;\n",
       "    }\n",
       "\n",
       "    .dataframe thead th {\n",
       "        text-align: right;\n",
       "    }\n",
       "</style>\n",
       "<table border=\"1\" class=\"dataframe\">\n",
       "  <thead>\n",
       "    <tr style=\"text-align: right;\">\n",
       "      <th>Gender</th>\n",
       "      <th>Female</th>\n",
       "      <th>Male</th>\n",
       "    </tr>\n",
       "    <tr>\n",
       "      <th>Tier</th>\n",
       "      <th></th>\n",
       "      <th></th>\n",
       "    </tr>\n",
       "  </thead>\n",
       "  <tbody>\n",
       "    <tr>\n",
       "      <th>Gold</th>\n",
       "      <td>11.0</td>\n",
       "      <td>11.0</td>\n",
       "    </tr>\n",
       "    <tr>\n",
       "      <th>Platinum</th>\n",
       "      <td>25.0</td>\n",
       "      <td>11.0</td>\n",
       "    </tr>\n",
       "    <tr>\n",
       "      <th>Regular</th>\n",
       "      <td>NaN</td>\n",
       "      <td>7.0</td>\n",
       "    </tr>\n",
       "  </tbody>\n",
       "</table>\n",
       "</div>"
      ],
      "text/plain": [
       "Gender    Female  Male\n",
       "Tier                  \n",
       "Gold        11.0  11.0\n",
       "Platinum    25.0  11.0\n",
       "Regular      NaN   7.0"
      ]
     },
     "execution_count": 43,
     "metadata": {},
     "output_type": "execute_result"
    }
   ],
   "source": [
    "orders_pivot = pd.pivot_table(\n",
    "    data=df,\n",
    "    index='Tier',\n",
    "    columns='Gender',\n",
    "    values='Total_orders',\n",
    "    aggfunc='sum'\n",
    ")\n",
    "\n",
    "orders_pivot\n"
   ]
  },
  {
   "cell_type": "markdown",
   "id": "64575302-f532-404c-8912-97bb3527592c",
   "metadata": {},
   "source": [
    "## Step 5: Pivot Table 3 – Avg Spend by Tier & Gender"
   ]
  },
  {
   "cell_type": "code",
   "execution_count": 44,
   "id": "4da53c0c-7ca8-472f-a7d9-8255a93ac06d",
   "metadata": {},
   "outputs": [
    {
     "data": {
      "text/html": [
       "<div>\n",
       "<style scoped>\n",
       "    .dataframe tbody tr th:only-of-type {\n",
       "        vertical-align: middle;\n",
       "    }\n",
       "\n",
       "    .dataframe tbody tr th {\n",
       "        vertical-align: top;\n",
       "    }\n",
       "\n",
       "    .dataframe thead th {\n",
       "        text-align: right;\n",
       "    }\n",
       "</style>\n",
       "<table border=\"1\" class=\"dataframe\">\n",
       "  <thead>\n",
       "    <tr style=\"text-align: right;\">\n",
       "      <th>Gender</th>\n",
       "      <th>Female</th>\n",
       "      <th>Male</th>\n",
       "    </tr>\n",
       "    <tr>\n",
       "      <th>Tier</th>\n",
       "      <th></th>\n",
       "      <th></th>\n",
       "    </tr>\n",
       "  </thead>\n",
       "  <tbody>\n",
       "    <tr>\n",
       "      <th>Gold</th>\n",
       "      <td>342.500000</td>\n",
       "      <td>385.0</td>\n",
       "    </tr>\n",
       "    <tr>\n",
       "      <th>Platinum</th>\n",
       "      <td>536.666667</td>\n",
       "      <td>610.0</td>\n",
       "    </tr>\n",
       "    <tr>\n",
       "      <th>Regular</th>\n",
       "      <td>NaN</td>\n",
       "      <td>212.5</td>\n",
       "    </tr>\n",
       "  </tbody>\n",
       "</table>\n",
       "</div>"
      ],
      "text/plain": [
       "Gender        Female   Male\n",
       "Tier                       \n",
       "Gold      342.500000  385.0\n",
       "Platinum  536.666667  610.0\n",
       "Regular          NaN  212.5"
      ]
     },
     "execution_count": 44,
     "metadata": {},
     "output_type": "execute_result"
    }
   ],
   "source": [
    "spend_pivot = pd.pivot_table(\n",
    "    data=df,\n",
    "    index='Tier',\n",
    "    columns='Gender',\n",
    "    values='Spend',\n",
    "    aggfunc='mean'\n",
    ")\n",
    "\n",
    "spend_pivot\n"
   ]
  },
  {
   "cell_type": "markdown",
   "id": "072370ae-342e-4e80-9757-0fc9fc3e56b3",
   "metadata": {},
   "source": [
    "## Step 6: Export All Pivot Tables"
   ]
  },
  {
   "cell_type": "code",
   "execution_count": 45,
   "id": "889a721b-f09f-4090-98a0-9f9f8a3cb23a",
   "metadata": {
    "scrolled": true
   },
   "outputs": [
    {
     "name": "stdout",
     "output_type": "stream",
     "text": [
      "All pivot tables exported to 'customer_value_dashboard.xlsx'\n"
     ]
    }
   ],
   "source": [
    "# Exporting all pivot tables into separate sheets in a single Excel file\n",
    "with pd.ExcelWriter(\"Output/customer_value_dashboard.xlsx\") as writer: #install openpyxl if not though !pip here\n",
    "    clv_pivot.to_excel(writer, sheet_name='Avg_CLV')\n",
    "    orders_pivot.to_excel(writer, sheet_name='Total_Orders')\n",
    "    spend_pivot.to_excel(writer, sheet_name='Avg_Spend')\n",
    "\n",
    "print(\"All pivot tables exported to 'customer_value_dashboard.xlsx'\")\n"
   ]
  },
  {
   "cell_type": "markdown",
   "id": "5d37c6ec-3ecc-4fd5-aabb-f155f3ebd214",
   "metadata": {},
   "source": [
    "## Step 7: Add Optional Visualization (for flavor)"
   ]
  },
  {
   "cell_type": "code",
   "execution_count": 54,
   "id": "c09b4606-8e7c-4117-bbb8-a71aaeb3e6e9",
   "metadata": {},
   "outputs": [
    {
     "data": {
      "image/png": "[encoded data removed]",
      "text/plain": [
       "<Figure size 640x480 with 2 Axes>"
      ]
     },
     "metadata": {},
     "output_type": "display_data"
    }
   ],
   "source": [
    "import seaborn as sns\n",
    "import matplotlib.pyplot as plt\n",
    "\n",
    "# Simple heatmap to show Avg CLV\n",
    "sns.heatmap(clv_pivot, annot=True, cmap='viridis')\n",
    "plt.title(\"Avg CLV by Tier & Gender\")\n",
    "plt.show()\n",
    "#the 2.2e+03 is just scientific notation we can remove them by simply: plt.ticklabel_format(style='plain', axis='both') "
   ]
  },
  {
   "cell_type": "markdown",
   "id": "e33dd485-c07f-4f73-b0c2-479e52542a57",
   "metadata": {},
   "source": [
    "## 🧠 Final Thoughts:\n",
    "I built a clean multi-pivot dashboard, exported it for reporting, and visualized one key metric.\n",
    "Perfect for any entry-level job portfolio or presentation."
   ]
  }
 ],
 "metadata": {
  "kernelspec": {
   "display_name": "Python 3 (ipykernel)",
   "language": "python",
   "name": "python3"
  },
  "language_info": {
   "codemirror_mode": {
    "name": "ipython",
    "version": 3
   },
   "file_extension": ".py",
   "mimetype": "text/x-python",
   "name": "python",
   "nbconvert_exporter": "python",
   "pygments_lexer": "ipython3",
   "version": "3.13.1"
  }
 },
 "nbformat": 4,
 "nbformat_minor": 5
}
